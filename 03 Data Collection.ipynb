{
 "cells": [
  {
   "cell_type": "code",
   "execution_count": 2,
   "metadata": {},
   "outputs": [],
   "source": [
    "#import libraries \n",
    "import praw\n",
    "import pandas as pd\n",
    "import datetime \n",
    "import csv\n",
    "import requests\n",
    "import datetime as dt\n",
    "import time\n"
   ]
  },
  {
   "cell_type": "code",
   "execution_count": 10,
   "metadata": {},
   "outputs": [],
   "source": [
    "# defning a fucntion for automating the collection\n",
    "def scrape_top():\n",
    "    reddit = praw.Reddit(client_id='d9TDvzmO_l74lQ', \\\n",
    "                         client_secret='ahvHukLHgov4mUQ3rhE893GYwKs', \\\n",
    "                         user_agent='Scrape for class project', \\\n",
    "                         username='hashnz12', \\\n",
    "                         password='nnN0zxhnb7vF')\n",
    "\n",
    "    subreddit_don = reddit.subreddit('The_Donald')\n",
    "    don_subreddit = subreddit_don.top(limit=5000)\n",
    "#     subreddit_lib = reddit.subreddit('Liberal')\n",
    "#     liberal_subreddit = subreddit_lib.top(limit=1000)\n",
    "#     subreddit_con = reddit.subreddit('Conservative')\n",
    "#     conservative_subreddit = subreddit_con.top(limit=1000)\n",
    "    # top_subreddit = subreddit.top()\n",
    "    topics_dict = { \"title\":[],\n",
    "                    \"subreddit\":[],\n",
    "                    \"score\":[], \n",
    "                    \"id\":[], \n",
    "                    \"domain\":[], \n",
    "                    \"comms_num\": [], \n",
    "                    \"created\": [], \n",
    "                    \"body\":[],\n",
    "                  }\n",
    "\n",
    "\n",
    "\n",
    "    for submission in don_subreddit:\n",
    "        topics_dict[\"title\"].append(submission.title)\n",
    "        topics_dict['subreddit'].append(submission.subreddit)\n",
    "        topics_dict[\"score\"].append(submission.score)\n",
    "        topics_dict[\"id\"].append(submission.id)\n",
    "        topics_dict[\"domain\"].append(submission.domain)\n",
    "        topics_dict[\"comms_num\"].append(submission.num_comments)\n",
    "        topics_dict[\"created\"].append(submission.created)\n",
    "        topics_dict[\"body\"].append(submission.selftext)\n",
    "\n",
    "\n",
    "#     for submission in liberal_subreddit:\n",
    "#         topics_dict[\"title\"].append(submission.title)\n",
    "#         topics_dict['subreddit'].append(submission.subreddit)\n",
    "#         topics_dict[\"score\"].append(submission.score)\n",
    "#         topics_dict[\"id\"].append(submission.id)\n",
    "#         topics_dict[\"domain\"].append(submission.domain)\n",
    "#         topics_dict[\"comms_num\"].append(submission.num_comments)\n",
    "#         topics_dict[\"created\"].append(submission.created)\n",
    "#         topics_dict[\"body\"].append(submission.selftext)\n",
    "\n",
    "#     # df_l = pd.DataFrame(topics_dict)\n",
    "\n",
    "#     for submission in conservative_subreddit:\n",
    "#         topics_dict[\"title\"].append(submission.title)\n",
    "#         topics_dict['subreddit'].append(submission.subreddit)\n",
    "#         topics_dict[\"score\"].append(submission.score)\n",
    "#         topics_dict[\"id\"].append(submission.id)\n",
    "#         topics_dict[\"domain\"].append(submission.domain)\n",
    "#         topics_dict[\"comms_num\"].append(submission.num_comments)\n",
    "#         topics_dict[\"created\"].append(submission.created)\n",
    "#         topics_dict[\"body\"].append(submission.selftext)\n",
    "    \n",
    "    return pd.DataFrame(topics_dict)\n",
    "    \n",
    "#     filename = datetime.now().strftime('reddit-%Y-%m-%d-%H-%M.csv')\n",
    "#     with open(filename, \"w+\") as f_output:\n",
    "#         csv_output = csv.writer(f_output)\n",
    "#         csv_output.writerow([\"title\", \"subreddit\",\"score\",\"id\",\"domain\",\"comms_num\",\"created\",'body'])\n",
    "#     df_top.head(3)"
   ]
  },
  {
   "cell_type": "code",
   "execution_count": 11,
   "metadata": {},
   "outputs": [],
   "source": [
    "# defning a fucntion for automating the collection\n",
    "def scrape_hot():\n",
    "    reddit = praw.Reddit(client_id='d9TDvzmO_l74lQ', \\\n",
    "                         client_secret='ahvHukLHgov4mUQ3rhE893GYwKs', \\\n",
    "                         user_agent='Scrape for class project', \\\n",
    "                         username='hashnz12', \\\n",
    "                         password='nnN0zxhnb7vF')\n",
    "\n",
    "    subreddit_don = reddit.subreddit('The_Donald')\n",
    "    don_subreddit = subreddit_don.top(limit=5000)\n",
    "#     subreddit_pol = reddit.subreddit('Politics')\n",
    "#     politics_subreddit = subreddit_pol.hot(limit=1000)\n",
    "#     subreddit_lib = reddit.subreddit('Liberal')\n",
    "#     liberal_subreddit = subreddit_lib.hot(limit=1000)\n",
    "#     subreddit_con = reddit.subreddit('Conservative')\n",
    "#     conservative_subreddit = subreddit_con.hot(limit=1000)\n",
    "    # hot_subreddit = subreddit.hot()\n",
    "    hotics_dict = { \"title\":[],\n",
    "                    \"subreddit\":[],\n",
    "                    \"score\":[], \n",
    "                    \"id\":[], \n",
    "                    \"domain\":[], \n",
    "                    \"comms_num\": [], \n",
    "                    \"created\": [], \n",
    "                    \"body\":[],\n",
    "                  }\n",
    "\n",
    "\n",
    "\n",
    "    for submission in don_subreddit:\n",
    "        hotics_dict[\"title\"].append(submission.title)\n",
    "        hotics_dict['subreddit'].append(submission.subreddit)\n",
    "        hotics_dict[\"score\"].append(submission.score)\n",
    "        hotics_dict[\"id\"].append(submission.id)\n",
    "        hotics_dict[\"domain\"].append(submission.domain)\n",
    "        hotics_dict[\"comms_num\"].append(submission.num_comments)\n",
    "        hotics_dict[\"created\"].append(submission.created)\n",
    "        hotics_dict[\"body\"].append(submission.selftext)\n",
    "\n",
    "\n",
    "#     for submission in liberal_subreddit:\n",
    "#         hotics_dict[\"title\"].append(submission.title)\n",
    "#         hotics_dict['subreddit'].append(submission.subreddit)\n",
    "#         hotics_dict[\"score\"].append(submission.score)\n",
    "#         hotics_dict[\"id\"].append(submission.id)\n",
    "#         hotics_dict[\"domain\"].append(submission.domain)\n",
    "#         hotics_dict[\"comms_num\"].append(submission.num_comments)\n",
    "#         hotics_dict[\"created\"].append(submission.created)\n",
    "#         hotics_dict[\"body\"].append(submission.selftext)\n",
    "\n",
    "#     # df_l = pd.DataFrame(hotics_dict)\n",
    "\n",
    "#     for submission in conservative_subreddit:\n",
    "#         hotics_dict[\"title\"].append(submission.title)\n",
    "#         hotics_dict['subreddit'].append(submission.subreddit)\n",
    "#         hotics_dict[\"score\"].append(submission.score)\n",
    "#         hotics_dict[\"id\"].append(submission.id)\n",
    "#         hotics_dict[\"domain\"].append(submission.domain)\n",
    "#         hotics_dict[\"comms_num\"].append(submission.num_comments)\n",
    "#         hotics_dict[\"created\"].append(submission.created)\n",
    "#         hotics_dict[\"body\"].append(submission.selftext)\n",
    "    \n",
    "    return pd.DataFrame(hotics_dict)"
   ]
  },
  {
   "cell_type": "code",
   "execution_count": 12,
   "metadata": {},
   "outputs": [],
   "source": [
    "df_hot = scrape_hot()\n"
   ]
  },
  {
   "cell_type": "code",
   "execution_count": 13,
   "metadata": {
    "scrolled": true
   },
   "outputs": [],
   "source": [
    "df_top=scrape_top()"
   ]
  },
  {
   "cell_type": "code",
   "execution_count": 14,
   "metadata": {},
   "outputs": [
    {
     "name": "stdout",
     "output_type": "stream",
     "text": [
      "(1000, 8)\n"
     ]
    }
   ],
   "source": [
    "print(df_hot.shape)"
   ]
  },
  {
   "cell_type": "code",
   "execution_count": 15,
   "metadata": {},
   "outputs": [
    {
     "data": {
      "text/plain": [
       "(1000, 8)"
      ]
     },
     "execution_count": 15,
     "metadata": {},
     "output_type": "execute_result"
    }
   ],
   "source": [
    "df_top.shape"
   ]
  },
  {
   "cell_type": "code",
   "execution_count": 16,
   "metadata": {},
   "outputs": [],
   "source": [
    "# batch eda\n",
    "def scrape_eda(df1,df2):\n",
    "    print(df1.shape)\n",
    "    print(df1.id.nunique())\n",
    "    print(df1.subreddit.value_counts())\n",
    "    df1=df1.drop_duplicates(subset='id',keep=\"last\")\n",
    "    print(df1.id.nunique())\n",
    "    print('')\n",
    "    \n",
    "\n",
    "    print(df2.shape)\n",
    "    print(df2.id.nunique())\n",
    "    print(df2.subreddit.value_counts())\n",
    "    df2=df2.drop_duplicates(subset='id',keep=\"last\")\n",
    "    print(df2.id.nunique())\n",
    "    print('')\n",
    "    \n",
    "    df_new = pd.concat([df1, df2])\n",
    "    df_new=df_new.drop_duplicates(subset='id',keep=\"last\")\n",
    "    df_new['time_retrieved'] = pd.Timestamp.utcnow()\n",
    "    print(df_new.id.nunique())\n",
    "    \n",
    "#     def get_hm(created):\n",
    "#         return dt.datetime.fromtimestamp(created).strftime('%H:%M')\n",
    "#     _time = df_new[\"created\"].apply(get_hm)\n",
    "#     df_new['Time_hm']=_time\n",
    "    \n",
    "#     def get_day(created):\n",
    "#         return dt.datetime.fromtimestamp(created).strftime('%a')\n",
    "    \n",
    "#     df_new['day']= df_new[\"created\"].apply(get_day)\n",
    "#     _day = df_new[\"created\"].apply(get_day)\n",
    "#     df_new['Day']=_day\n",
    "    \n",
    "    TodaysDate = time.strftime(\"%d-%m-%Y\")\n",
    "    csv_name = TodaysDate +\".csv\"\n",
    "    df_new.to_csv(csv_name,index=False)\n",
    "    print(csv_name)\n",
    "    return"
   ]
  },
  {
   "cell_type": "code",
   "execution_count": 17,
   "metadata": {},
   "outputs": [
    {
     "name": "stdout",
     "output_type": "stream",
     "text": [
      "(1000, 8)\n",
      "1000\n",
      "The_Donald    1000\n",
      "Name: subreddit, dtype: int64\n",
      "1000\n",
      "\n",
      "(1000, 8)\n",
      "1000\n",
      "The_Donald    1000\n",
      "Name: subreddit, dtype: int64\n",
      "1000\n",
      "\n",
      "1000\n",
      "06-06-2018.csv\n"
     ]
    }
   ],
   "source": [
    "scrape_eda(df_hot,df_top)"
   ]
  },
  {
   "cell_type": "code",
   "execution_count": null,
   "metadata": {},
   "outputs": [],
   "source": []
  },
  {
   "cell_type": "code",
   "execution_count": null,
   "metadata": {},
   "outputs": [],
   "source": []
  }
 ],
 "metadata": {
  "kernelspec": {
   "display_name": "Python 3",
   "language": "python",
   "name": "python3"
  },
  "language_info": {
   "codemirror_mode": {
    "name": "ipython",
    "version": 3
   },
   "file_extension": ".py",
   "mimetype": "text/x-python",
   "name": "python",
   "nbconvert_exporter": "python",
   "pygments_lexer": "ipython3",
   "version": "3.6.5"
  }
 },
 "nbformat": 4,
 "nbformat_minor": 2
}
