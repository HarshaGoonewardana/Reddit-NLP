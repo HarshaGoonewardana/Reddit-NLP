{
 "cells": [
  {
   "cell_type": "code",
   "execution_count": 1,
   "metadata": {},
   "outputs": [],
   "source": [
    "import time\n",
    "import numpy as np\n",
    "import pandas as pd\n",
    "import matplotlib.pyplot as plt\n",
    "import seaborn as sns\n",
    "from sklearn.model_selection import train_test_split\n",
    "from sklearn.model_selection import cross_val_score, StratifiedKFold\n",
    "from sklearn.tree import DecisionTreeClassifier\n",
    "from sklearn.ensemble import RandomForestClassifier, ExtraTreesClassifier, BaggingClassifier,AdaBoostClassifier,GradientBoostingClassifier\n",
    "from sklearn.preprocessing import LabelEncoder\n",
    "from nltk.corpus import stopwords\n",
    "from nltk.stem import WordNetLemmatizer\n",
    "lemmatizer = WordNetLemmatizer()\n",
    "import re\n",
    "from nltk.tokenize import RegexpTokenizer\n",
    "tokenizer = RegexpTokenizer(r'\\w+')\n",
    "stops = set(stopwords.words('english'))\n",
    "from nltk.stem.porter import PorterStemmer\n",
    "p_stemmer = PorterStemmer()\n",
    "from sklearn.feature_extraction.text import CountVectorizer\n",
    "from sklearn.tree import DecisionTreeClassifier, export_graphviz\n",
    "from sklearn.preprocessing import StandardScaler\n",
    "from sklearn.svm import SVC\n",
    "from sklearn.neighbors import KNeighborsClassifier\n",
    "from sklearn.model_selection import GridSearchCV \n",
    "%matplotlib inline"
   ]
  },
  {
   "cell_type": "code",
   "execution_count": 2,
   "metadata": {},
   "outputs": [],
   "source": [
    "from nltk import word_tokenize\n",
    "from nltk.stem import PorterStemmer\n",
    "from nltk.stem import WordNetLemmatizer\n",
    "from nltk.corpus import stopwords\n",
    "from sklearn.cluster import KMeans\n",
    "from sklearn.feature_extraction.text import TfidfVectorizer\n",
    "from nltk.tokenize import RegexpTokenizer"
   ]
  },
  {
   "cell_type": "code",
   "execution_count": 4,
   "metadata": {},
   "outputs": [],
   "source": [
    "from sklearn.ensemble import RandomForestClassifier\n",
    "from sklearn.linear_model import LogisticRegression"
   ]
  },
  {
   "cell_type": "markdown",
   "metadata": {},
   "source": [
    "Import the combined Liberal and Conservative datasets for training the algorythem"
   ]
  },
  {
   "cell_type": "code",
   "execution_count": 5,
   "metadata": {},
   "outputs": [
    {
     "data": {
      "text/plain": [
       "(3842, 18)"
      ]
     },
     "execution_count": 5,
     "metadata": {},
     "output_type": "execute_result"
    }
   ],
   "source": [
    "df=pd.read_csv('LibCon03-06-2018.csv')\n",
    "\n",
    "df.shape"
   ]
  },
  {
   "cell_type": "code",
   "execution_count": 6,
   "metadata": {
    "scrolled": true
   },
   "outputs": [
    {
     "data": {
      "text/html": [
       "<div>\n",
       "<style scoped>\n",
       "    .dataframe tbody tr th:only-of-type {\n",
       "        vertical-align: middle;\n",
       "    }\n",
       "\n",
       "    .dataframe tbody tr th {\n",
       "        vertical-align: top;\n",
       "    }\n",
       "\n",
       "    .dataframe thead th {\n",
       "        text-align: right;\n",
       "    }\n",
       "</style>\n",
       "<table border=\"1\" class=\"dataframe\">\n",
       "  <thead>\n",
       "    <tr style=\"text-align: right;\">\n",
       "      <th></th>\n",
       "      <th>body</th>\n",
       "      <th>comms_num</th>\n",
       "      <th>created</th>\n",
       "      <th>domain</th>\n",
       "      <th>id</th>\n",
       "      <th>score</th>\n",
       "      <th>subreddit</th>\n",
       "      <th>time_retrieved</th>\n",
       "      <th>title</th>\n",
       "      <th>time</th>\n",
       "      <th>time_retrieved.1</th>\n",
       "      <th>post_duration</th>\n",
       "      <th>time_hm</th>\n",
       "      <th>day</th>\n",
       "      <th>word_count</th>\n",
       "      <th>sent_sia</th>\n",
       "      <th>sentiment</th>\n",
       "      <th>subjectivity</th>\n",
       "      <th>sent_label</th>\n",
       "    </tr>\n",
       "  </thead>\n",
       "  <tbody>\n",
       "    <tr>\n",
       "      <th>0</th>\n",
       "      <td>NaN</td>\n",
       "      <td>1</td>\n",
       "      <td>1.527722e+09</td>\n",
       "      <td>medium.com</td>\n",
       "      <td>8n9e7d</td>\n",
       "      <td>1</td>\n",
       "      <td>Conservative</td>\n",
       "      <td>2018-05-30 22:07:10.938189+00:00</td>\n",
       "      <td>The Day I Learned We Had a Fake News Problem</td>\n",
       "      <td>2018-05-30 23:17:28.000000</td>\n",
       "      <td>2018-05-30 22:07:10.938189</td>\n",
       "      <td>23.0</td>\n",
       "      <td>23</td>\n",
       "      <td>Sun</td>\n",
       "      <td>10</td>\n",
       "      <td>-0.38</td>\n",
       "      <td>-0.50</td>\n",
       "      <td>1.00</td>\n",
       "      <td>negative</td>\n",
       "    </tr>\n",
       "    <tr>\n",
       "      <th>1</th>\n",
       "      <td>NaN</td>\n",
       "      <td>0</td>\n",
       "      <td>1.527281e+09</td>\n",
       "      <td>medium.com</td>\n",
       "      <td>8m1ean</td>\n",
       "      <td>8</td>\n",
       "      <td>Conservative</td>\n",
       "      <td>2018-05-30 22:07:10.938189+00:00</td>\n",
       "      <td>Jordan Peterson LBC Interview: A Few Highlights</td>\n",
       "      <td>2018-05-25 20:35:45.000000</td>\n",
       "      <td>2018-05-30 22:07:10.938189</td>\n",
       "      <td>2.0</td>\n",
       "      <td>20</td>\n",
       "      <td>Sun</td>\n",
       "      <td>7</td>\n",
       "      <td>-0.48</td>\n",
       "      <td>-0.20</td>\n",
       "      <td>0.10</td>\n",
       "      <td>negative</td>\n",
       "    </tr>\n",
       "    <tr>\n",
       "      <th>2</th>\n",
       "      <td>NaN</td>\n",
       "      <td>0</td>\n",
       "      <td>1.527121e+09</td>\n",
       "      <td>thefederalist.com</td>\n",
       "      <td>8lko53</td>\n",
       "      <td>7</td>\n",
       "      <td>Conservative</td>\n",
       "      <td>2018-05-30 22:07:10.938189+00:00</td>\n",
       "      <td>James Clapper Just Lied Again About His Previo...</td>\n",
       "      <td>2018-05-24 00:21:14.000000</td>\n",
       "      <td>2018-05-30 22:07:10.938189</td>\n",
       "      <td>22.0</td>\n",
       "      <td>0</td>\n",
       "      <td>Sun</td>\n",
       "      <td>12</td>\n",
       "      <td>0.59</td>\n",
       "      <td>-0.17</td>\n",
       "      <td>0.17</td>\n",
       "      <td>negative</td>\n",
       "    </tr>\n",
       "  </tbody>\n",
       "</table>\n",
       "</div>"
      ],
      "text/plain": [
       "  body  comms_num       created             domain      id  score  \\\n",
       "0  NaN          1  1.527722e+09         medium.com  8n9e7d      1   \n",
       "1  NaN          0  1.527281e+09         medium.com  8m1ean      8   \n",
       "2  NaN          0  1.527121e+09  thefederalist.com  8lko53      7   \n",
       "\n",
       "      subreddit                    time_retrieved  \\\n",
       "0  Conservative  2018-05-30 22:07:10.938189+00:00   \n",
       "1  Conservative  2018-05-30 22:07:10.938189+00:00   \n",
       "2  Conservative  2018-05-30 22:07:10.938189+00:00   \n",
       "\n",
       "                                               title  \\\n",
       "0       The Day I Learned We Had a Fake News Problem   \n",
       "1    Jordan Peterson LBC Interview: A Few Highlights   \n",
       "2  James Clapper Just Lied Again About His Previo...   \n",
       "\n",
       "                         time            time_retrieved.1  post_duration  \\\n",
       "0  2018-05-30 23:17:28.000000  2018-05-30 22:07:10.938189           23.0   \n",
       "1  2018-05-25 20:35:45.000000  2018-05-30 22:07:10.938189            2.0   \n",
       "2  2018-05-24 00:21:14.000000  2018-05-30 22:07:10.938189           22.0   \n",
       "\n",
       "   time_hm  day  word_count  sent_sia  sentiment  subjectivity sent_label  \n",
       "0       23  Sun          10     -0.38      -0.50          1.00   negative  \n",
       "1       20  Sun           7     -0.48      -0.20          0.10   negative  \n",
       "2        0  Sun          12      0.59      -0.17          0.17   negative  "
      ]
     },
     "execution_count": 6,
     "metadata": {},
     "output_type": "execute_result"
    }
   ],
   "source": [
    "df['sent_label'] = 'neutral'\n",
    "df.loc[df['sentiment'] > 0.1, 'sent_label'] = 'positive'\n",
    "df.loc[df['sentiment'] < -0.1, 'sent_label'] = 'negative'\n",
    "df.head(3)\n",
    "    "
   ]
  },
  {
   "cell_type": "code",
   "execution_count": 7,
   "metadata": {},
   "outputs": [],
   "source": [
    "df_Lib=df[df['subreddit']=='Liberal'] \n",
    "df_Con=df[df['subreddit']=='Conservative']"
   ]
  },
  {
   "cell_type": "code",
   "execution_count": 1,
   "metadata": {
    "scrolled": true
   },
   "outputs": [
    {
     "ename": "NameError",
     "evalue": "name 'df_Lib' is not defined",
     "output_type": "error",
     "traceback": [
      "\u001b[0;31m---------------------------------------------------------------------------\u001b[0m",
      "\u001b[0;31mNameError\u001b[0m                                 Traceback (most recent call last)",
      "\u001b[0;32m<ipython-input-1-d7e1c26bec80>\u001b[0m in \u001b[0;36m<module>\u001b[0;34m()\u001b[0m\n\u001b[1;32m      1\u001b[0m \u001b[0;31m# important to represent domains from both sides as conservative use less websites\u001b[0m\u001b[0;34m\u001b[0m\u001b[0;34m\u001b[0m\u001b[0m\n\u001b[0;32m----> 2\u001b[0;31m \u001b[0mLib_news\u001b[0m\u001b[0;34m=\u001b[0m \u001b[0mdf_Lib\u001b[0m\u001b[0;34m[\u001b[0m\u001b[0;34m'domain'\u001b[0m\u001b[0;34m]\u001b[0m\u001b[0;34m.\u001b[0m\u001b[0mvalue_counts\u001b[0m\u001b[0;34m(\u001b[0m\u001b[0;34m)\u001b[0m\u001b[0;34m.\u001b[0m\u001b[0mhead\u001b[0m\u001b[0;34m(\u001b[0m\u001b[0;36m15\u001b[0m\u001b[0;34m)\u001b[0m\u001b[0;34m.\u001b[0m\u001b[0mindex\u001b[0m\u001b[0;34m.\u001b[0m\u001b[0mtolist\u001b[0m\u001b[0;34m(\u001b[0m\u001b[0;34m)\u001b[0m\u001b[0;34m\u001b[0m\u001b[0m\n\u001b[0m\u001b[1;32m      3\u001b[0m \u001b[0mCon_news\u001b[0m\u001b[0;34m=\u001b[0m \u001b[0mdf_Con\u001b[0m\u001b[0;34m[\u001b[0m\u001b[0;34m'domain'\u001b[0m\u001b[0;34m]\u001b[0m\u001b[0;34m.\u001b[0m\u001b[0mvalue_counts\u001b[0m\u001b[0;34m(\u001b[0m\u001b[0;34m)\u001b[0m\u001b[0;34m.\u001b[0m\u001b[0mhead\u001b[0m\u001b[0;34m(\u001b[0m\u001b[0;36m15\u001b[0m\u001b[0;34m)\u001b[0m\u001b[0;34m.\u001b[0m\u001b[0mindex\u001b[0m\u001b[0;34m.\u001b[0m\u001b[0mtolist\u001b[0m\u001b[0;34m(\u001b[0m\u001b[0;34m)\u001b[0m\u001b[0;34m\u001b[0m\u001b[0m\n\u001b[1;32m      4\u001b[0m \u001b[0;34m\u001b[0m\u001b[0m\n\u001b[1;32m      5\u001b[0m \u001b[0;31m# df['domain_d'] = [type_ if type_ in DD\u001b[0m\u001b[0;34m\u001b[0m\u001b[0;34m\u001b[0m\u001b[0m\n",
      "\u001b[0;31mNameError\u001b[0m: name 'df_Lib' is not defined"
     ]
    }
   ],
   "source": [
    "# important to represent domains from both sides as conservative use less websites \n",
    "Lib_news= df_Lib['domain'].value_counts().head(15).index.tolist() \n",
    "Con_news= df_Con['domain'].value_counts().head(15).index.tolist() \n",
    "\n",
    "# df['domain_d'] = [type_ if type_ in DD\n",
    "#                       else \"OTHER\" for type_ in df['domain']]\n",
    "\n",
    "# df['domain_d'].value_counts()\n",
    "News_Comm=list(set(Con_news+Lib_news))\n",
    "df['domain_d'] = [type_ if type_ in News_Comm\n",
    "                      else \"OTHER\" for type_ in df['domain']]\n",
    "\n",
    "df['domain_d'].value_counts()"
   ]
  },
  {
   "cell_type": "code",
   "execution_count": 9,
   "metadata": {
    "scrolled": true
   },
   "outputs": [
    {
     "name": "stdout",
     "output_type": "stream",
     "text": [
      "Numerical features : 9\n",
      "['comms_num' 'created' 'score' 'post_duration' 'time_hm' 'word_count'\n",
      " 'sent_sia' 'sentiment' 'subjectivity']\n",
      "Categorical features : 11\n",
      "['body' 'domain' 'id' 'subreddit' 'time_retrieved' 'title' 'time'\n",
      " 'time_retrieved.1' 'day' 'sent_label' 'domain_d']\n"
     ]
    }
   ],
   "source": [
    "cat_features = df.select_dtypes(include = [\"object\"]).columns\n",
    "num_features = df.select_dtypes(exclude = [\"object\"]).columns\n",
    "df_num = df[num_features]\n",
    "df_cat = df[cat_features]\n",
    "print(\"Numerical features : \" + str(len(num_features)))\n",
    "print(df.select_dtypes(exclude=['O']).columns.values)\n",
    "print(\"Categorical features : \" + str(len(cat_features)))\n",
    "print((df.select_dtypes(include=['O']).columns.values))\n",
    "# train_num = train[numerical_features]\n",
    "# train_cat = train[categorical_features]"
   ]
  },
  {
   "cell_type": "code",
   "execution_count": 10,
   "metadata": {},
   "outputs": [
    {
     "name": "stdout",
     "output_type": "stream",
     "text": [
      "Scores\n",
      "Mean is 487.85 and the Median is 147.00\n",
      "Number of coments\n",
      "Mean is 79.30 and the Median is 14.00\n"
     ]
    }
   ],
   "source": [
    "print('Scores')\n",
    "print(\"Mean is {:0.2f} and the Median is {:0.2f}\".format(np.mean(df.score),np.median(df.score)))\n",
    "print('Number of coments')\n",
    "print(\"Mean is {:0.2f} and the Median is {:0.2f}\".format(np.mean(df.comms_num),np.median(df.comms_num)))\n",
    "\n"
   ]
  },
  {
   "cell_type": "markdown",
   "metadata": {},
   "source": [
    "### NLP"
   ]
  },
  {
   "cell_type": "code",
   "execution_count": 11,
   "metadata": {},
   "outputs": [],
   "source": [
    "df['text']=df['title'].str.replace('\\d+', '')\n",
    "# df_lib_con.title = df_lib_con.title.str.replace('\\d+', '')"
   ]
  },
  {
   "cell_type": "code",
   "execution_count": 12,
   "metadata": {},
   "outputs": [],
   "source": [
    "def process_lem(text):\n",
    "    text = text.lower()\n",
    "    text = re.sub(r'[^a-zA-Z]', ' ', text)\n",
    "    tokens = word_tokenize(text)\n",
    "    \n",
    "    lemmer = WordNetLemmatizer()\n",
    "    stop_words = stopwords.words(\"english\")\n",
    "    return ' '.join([lemmer.lemmatize(word) for word in tokens if not word in stop_words])"
   ]
  },
  {
   "cell_type": "code",
   "execution_count": 13,
   "metadata": {},
   "outputs": [],
   "source": [
    "df['text'] = [process_lem(text) for text in df['text']]"
   ]
  },
  {
   "cell_type": "code",
   "execution_count": 14,
   "metadata": {},
   "outputs": [],
   "source": [
    "\n",
    "le=LabelEncoder()\n",
    "# X = df['domain_d']\n",
    "X = df[['word_count','sentiment','domain_d','title','post_duration','text']]\n",
    "# y=df_combined['subreddit']\n",
    "# transform the label \n",
    "y = le.fit_transform(df['subreddit'])\n",
    "# y_cm = LabelEncoder().fit_transform(df['comments_label'])"
   ]
  },
  {
   "cell_type": "code",
   "execution_count": 15,
   "metadata": {},
   "outputs": [
    {
     "data": {
      "text/plain": [
       "Conservative    2184\n",
       "Liberal         1658\n",
       "Name: subreddit, dtype: int64"
      ]
     },
     "execution_count": 15,
     "metadata": {},
     "output_type": "execute_result"
    }
   ],
   "source": [
    "df.subreddit.value_counts()"
   ]
  },
  {
   "cell_type": "code",
   "execution_count": 16,
   "metadata": {
    "scrolled": true
   },
   "outputs": [
    {
     "data": {
      "text/plain": [
       "1658"
      ]
     },
     "execution_count": 16,
     "metadata": {},
     "output_type": "execute_result"
    }
   ],
   "source": [
    "y.sum()"
   ]
  },
  {
   "cell_type": "code",
   "execution_count": 17,
   "metadata": {},
   "outputs": [],
   "source": [
    "X_d = pd.get_dummies(X, columns=['domain_d'], drop_first=True)"
   ]
  },
  {
   "cell_type": "code",
   "execution_count": 18,
   "metadata": {},
   "outputs": [],
   "source": [
    "X_train, X_test, y_train, y_test = train_test_split(X_d, y, test_size=0.5, random_state=42)\n"
   ]
  },
  {
   "cell_type": "code",
   "execution_count": 19,
   "metadata": {},
   "outputs": [],
   "source": [
    "tvec = TfidfVectorizer(stop_words=stopwords.words('english'),\n",
    "                                 lowercase=True,max_features=500)\n",
    "\n",
    "X_train_matrix = tvec.fit_transform(X_train['text'])\n",
    "X_test_matrix = tvec.transform(X_test['text'])"
   ]
  },
  {
   "cell_type": "code",
   "execution_count": 47,
   "metadata": {},
   "outputs": [],
   "source": [
    "X_train_df = pd.DataFrame(X_train_matrix.todense(),\n",
    "                         columns=tvec.get_feature_names(),\n",
    "                         index=X_train.index)"
   ]
  },
  {
   "cell_type": "code",
   "execution_count": 48,
   "metadata": {},
   "outputs": [],
   "source": [
    "X_test_df = pd.DataFrame(X_test_matrix.todense(),\n",
    "                        columns=tvec.get_feature_names(),\n",
    "                        index=X_test.index)"
   ]
  },
  {
   "cell_type": "code",
   "execution_count": 50,
   "metadata": {},
   "outputs": [],
   "source": [
    "X_train_all = pd.concat([X_train_df, X_train.drop('title', axis=1)], axis=1)\n",
    "X_test_all = pd.concat([X_test_df, X_test.drop('title', axis=1)], axis=1)"
   ]
  },
  {
   "cell_type": "code",
   "execution_count": 20,
   "metadata": {},
   "outputs": [],
   "source": [
    "forest = RandomForestClassifier(max_depth=10, n_estimators=5)\n",
    "lr=LogisticRegression()"
   ]
  },
  {
   "cell_type": "markdown",
   "metadata": {},
   "source": [
    "Prediction based just on NLP"
   ]
  },
  {
   "cell_type": "code",
   "execution_count": 21,
   "metadata": {},
   "outputs": [
    {
     "name": "stdout",
     "output_type": "stream",
     "text": [
      "Log Reg\n",
      "0.7813638729828214\n",
      "0.6637168141592921\n",
      "\n",
      " Random Forest\n",
      "0.6782925559604372\n",
      "0.6241540864133264\n"
     ]
    }
   ],
   "source": [
    "lr.fit(X_train_matrix, y_train)\n",
    "print('Log Reg')\n",
    "print(lr.score(X_train_matrix, y_train))\n",
    "print(lr.score(X_test_matrix, y_test))\n",
    "\n",
    "forest.fit(X_train_matrix, y_train)\n",
    "print('\\n Random Forest')\n",
    "print(forest.score(X_train_matrix, y_train))\n",
    "print(forest.score(X_test_matrix, y_test))"
   ]
  },
  {
   "cell_type": "code",
   "execution_count": 52,
   "metadata": {
    "scrolled": true
   },
   "outputs": [
    {
     "name": "stdout",
     "output_type": "stream",
     "text": [
      "['text']\n"
     ]
    }
   ],
   "source": [
    "print((X_train_all.select_dtypes(include=['O']).columns.values))"
   ]
  },
  {
   "cell_type": "code",
   "execution_count": 54,
   "metadata": {},
   "outputs": [],
   "source": [
    "X_train_all=X_train_all.drop('text',axis=1)\n",
    "X_test_all=X_test_all.drop('text',axis=1)"
   ]
  },
  {
   "cell_type": "markdown",
   "metadata": {},
   "source": [
    "Prediction based on teh combined featureset"
   ]
  },
  {
   "cell_type": "code",
   "execution_count": 55,
   "metadata": {},
   "outputs": [
    {
     "name": "stdout",
     "output_type": "stream",
     "text": [
      "Log Reg\n",
      "0.8974492451847996\n",
      "0.8157209786569495\n",
      "\n",
      " Random Forest\n",
      "0.7506507027589797\n",
      "0.7001561686621551\n"
     ]
    }
   ],
   "source": [
    "lr.fit(X_train_all, y_train)\n",
    "print('Log Reg')\n",
    "print(lr.score(X_train_all, y_train))\n",
    "print(lr.score(X_test_all, y_test))\n",
    "\n",
    "forest.fit(X_train_all, y_train)\n",
    "print('\\n Random Forest')\n",
    "print(forest.score(X_train_all, y_train))\n",
    "print(forest.score(X_test_all, y_test))"
   ]
  },
  {
   "cell_type": "code",
   "execution_count": 2,
   "metadata": {},
   "outputs": [
    {
     "ename": "NameError",
     "evalue": "name 'forest' is not defined",
     "output_type": "error",
     "traceback": [
      "\u001b[0;31m---------------------------------------------------------------------------\u001b[0m",
      "\u001b[0;31mNameError\u001b[0m                                 Traceback (most recent call last)",
      "\u001b[0;32m<ipython-input-2-bc1532496801>\u001b[0m in \u001b[0;36m<module>\u001b[0;34m()\u001b[0m\n\u001b[0;32m----> 1\u001b[0;31m \u001b[0mprint\u001b[0m\u001b[0;34m(\u001b[0m\u001b[0mlist\u001b[0m\u001b[0;34m(\u001b[0m\u001b[0mzip\u001b[0m\u001b[0;34m(\u001b[0m\u001b[0mforest\u001b[0m\u001b[0;34m.\u001b[0m\u001b[0mcoef_\u001b[0m\u001b[0;34m,\u001b[0m \u001b[0mforest_features\u001b[0m\u001b[0;34m)\u001b[0m\u001b[0;34m)\u001b[0m\u001b[0;34m)\u001b[0m\u001b[0;34m\u001b[0m\u001b[0m\n\u001b[0m",
      "\u001b[0;31mNameError\u001b[0m: name 'forest' is not defined"
     ]
    }
   ],
   "source": [
    "print(list(zip(forest.coef_, forest_features)))"
   ]
  },
  {
   "cell_type": "code",
   "execution_count": 1,
   "metadata": {},
   "outputs": [
    {
     "ename": "NameError",
     "evalue": "name 'X_train_all' is not defined",
     "output_type": "error",
     "traceback": [
      "\u001b[0;31m---------------------------------------------------------------------------\u001b[0m",
      "\u001b[0;31mNameError\u001b[0m                                 Traceback (most recent call last)",
      "\u001b[0;32m<ipython-input-1-82bc79ceed77>\u001b[0m in \u001b[0;36m<module>\u001b[0;34m()\u001b[0m\n\u001b[1;32m      4\u001b[0m \u001b[0;34m\u001b[0m\u001b[0m\n\u001b[1;32m      5\u001b[0m \u001b[0mtpot\u001b[0m \u001b[0;34m=\u001b[0m \u001b[0mTPOTClassifier\u001b[0m\u001b[0;34m(\u001b[0m\u001b[0mgenerations\u001b[0m\u001b[0;34m=\u001b[0m\u001b[0;36m3\u001b[0m\u001b[0;34m,\u001b[0m \u001b[0mpopulation_size\u001b[0m\u001b[0;34m=\u001b[0m\u001b[0;36m20\u001b[0m\u001b[0;34m,\u001b[0m \u001b[0mverbosity\u001b[0m\u001b[0;34m=\u001b[0m\u001b[0;36m2\u001b[0m\u001b[0;34m)\u001b[0m\u001b[0;34m\u001b[0m\u001b[0m\n\u001b[0;32m----> 6\u001b[0;31m \u001b[0mtpot\u001b[0m\u001b[0;34m.\u001b[0m\u001b[0mfit\u001b[0m\u001b[0;34m(\u001b[0m\u001b[0mX_train_all\u001b[0m\u001b[0;34m,\u001b[0m \u001b[0my_train\u001b[0m\u001b[0;34m)\u001b[0m\u001b[0;34m\u001b[0m\u001b[0m\n\u001b[0m\u001b[1;32m      7\u001b[0m \u001b[0mprint\u001b[0m\u001b[0;34m(\u001b[0m\u001b[0mtpot\u001b[0m\u001b[0;34m.\u001b[0m\u001b[0mscore\u001b[0m\u001b[0;34m(\u001b[0m\u001b[0mX_test_all\u001b[0m\u001b[0;34m,\u001b[0m \u001b[0my_test\u001b[0m\u001b[0;34m)\u001b[0m\u001b[0;34m)\u001b[0m\u001b[0;34m\u001b[0m\u001b[0m\n\u001b[1;32m      8\u001b[0m \u001b[0mtpot\u001b[0m\u001b[0;34m.\u001b[0m\u001b[0mexport\u001b[0m\u001b[0;34m(\u001b[0m\u001b[0;34m'tpot_pipeline.py'\u001b[0m\u001b[0;34m)\u001b[0m\u001b[0;34m\u001b[0m\u001b[0m\n",
      "\u001b[0;31mNameError\u001b[0m: name 'X_train_all' is not defined"
     ]
    }
   ],
   "source": [
    "from tpot import TPOTClassifier\n",
    "\n",
    "tpot=TPOTClassifier()\n",
    "\n",
    "tpot = TPOTClassifier(generations=3, population_size=20, verbosity=2)\n",
    "tpot.fit(X_train_all, y_train)\n",
    "print(tpot.score(X_test_all, y_test))\n",
    "tpot.export('tpot_pipeline.py')"
   ]
  },
  {
   "cell_type": "code",
   "execution_count": null,
   "metadata": {},
   "outputs": [],
   "source": [
    "X_d.shape"
   ]
  },
  {
   "cell_type": "code",
   "execution_count": null,
   "metadata": {},
   "outputs": [],
   "source": [
    "# so we choose log reg\n"
   ]
  },
  {
   "cell_type": "markdown",
   "metadata": {},
   "source": [
    "## Predict on pol\n"
   ]
  },
  {
   "cell_type": "code",
   "execution_count": 22,
   "metadata": {},
   "outputs": [
    {
     "data": {
      "text/plain": [
       "(3382, 18)"
      ]
     },
     "execution_count": 22,
     "metadata": {},
     "output_type": "execute_result"
    }
   ],
   "source": [
    "df_pol=pd.read_csv('Pol03-06-2018.csv')\n",
    "\n",
    "df_pol.shape"
   ]
  },
  {
   "cell_type": "code",
   "execution_count": 64,
   "metadata": {},
   "outputs": [
    {
     "data": {
      "text/plain": [
       "<matplotlib.axes._subplots.AxesSubplot at 0x1a163d7a58>"
      ]
     },
     "execution_count": 64,
     "metadata": {},
     "output_type": "execute_result"
    },
    {
     "data": {
      "image/png": "[encoded data removed]",
      "text/plain": [
       "<Figure size 432x288 with 1 Axes>"
      ]
     },
     "metadata": {},
     "output_type": "display_data"
    }
   ],
   "source": [
    "df_pol['domain'].value_counts().head(20).plot(kind='bar')"
   ]
  },
  {
   "cell_type": "markdown",
   "metadata": {},
   "source": [
    "### NLP"
   ]
  },
  {
   "cell_type": "code",
   "execution_count": 24,
   "metadata": {},
   "outputs": [],
   "source": [
    "df_pol['text']=df_pol['title'].str.replace('\\d+', '')\n",
    "# df_lib_con.title = df_lib_con.title.str.replace('\\d+', '')"
   ]
  },
  {
   "cell_type": "code",
   "execution_count": 25,
   "metadata": {},
   "outputs": [],
   "source": [
    "df_pol['text'] = [process_lem(text) for text in df_pol['text']]"
   ]
  },
  {
   "cell_type": "code",
   "execution_count": 30,
   "metadata": {},
   "outputs": [
    {
     "name": "stdout",
     "output_type": "stream",
     "text": [
      "30\n",
      "30\n"
     ]
    }
   ],
   "source": [
    "DD_p= df_pol['domain'].value_counts().head(29).index.tolist()\n",
    "\n",
    "\n",
    "# df['domain_d'] = [type_ if type_ in News_Comm\n",
    "#                       else \"OTHER\" for type_ in df['domain']]\n",
    "df_pol['domain_d'] = [type_ if type_ in DD_p\n",
    "                      else \"OTHER\" for type_ in df_pol['domain']]\n",
    "print(df_pol['domain_d'].nunique())\n",
    "print(df['domain_d'].nunique())"
   ]
  },
  {
   "cell_type": "code",
   "execution_count": 31,
   "metadata": {},
   "outputs": [],
   "source": [
    "df_pol_t = df_pol[['word_count','sentiment','domain_d','title','post_duration','text']]\n",
    "# X_n=df[['word_count','sentiment','subjectivity','domain','title','post_duration']]\n",
    "# y=df_combined['subreddit']\n",
    "# transform the label \n",
    "# y = LabelEncoder().fit_transform(df['subreddit'])\n",
    "# y_cm = LabelEncoder().fit_transform(df['comments_label'])"
   ]
  },
  {
   "cell_type": "code",
   "execution_count": 32,
   "metadata": {},
   "outputs": [],
   "source": [
    "df_pol_matrix = tvec.transform(df_pol_t['text'])"
   ]
  },
  {
   "cell_type": "code",
   "execution_count": 34,
   "metadata": {},
   "outputs": [],
   "source": [
    "df_pol_matrix_df = pd.DataFrame(df_pol_matrix.todense(),\n",
    "                         columns=tvec.get_feature_names(),\n",
    "                         index=df_pol_t.index)"
   ]
  },
  {
   "cell_type": "code",
   "execution_count": 35,
   "metadata": {},
   "outputs": [],
   "source": [
    "df_pol_t = pd.concat([df_pol_matrix_df, df_pol_t.drop('title', axis=1)], axis=1)\n",
    "# X_test_all = pd.concat([X_test_df, X_test.drop('title', axis=1)], axis=1)"
   ]
  },
  {
   "cell_type": "code",
   "execution_count": 37,
   "metadata": {
    "scrolled": true
   },
   "outputs": [
    {
     "name": "stdout",
     "output_type": "stream",
     "text": [
      "Scores\n",
      "Mean is 487.85 and the Median is 147.00\n",
      "Number of coments\n",
      "Mean is 79.30 and the Median is 14.00\n"
     ]
    }
   ],
   "source": [
    "print('Scores')\n",
    "print(\"Mean is {:0.2f} and the Median is {:0.2f}\".format(np.mean(df.score),np.median(df.score)))\n",
    "print('Number of coments')\n",
    "print(\"Mean is {:0.2f} and the Median is {:0.2f}\".format(np.mean(df.comms_num),np.median(df.comms_num)))\n",
    "\n"
   ]
  },
  {
   "cell_type": "code",
   "execution_count": 36,
   "metadata": {
    "scrolled": false
   },
   "outputs": [
    {
     "name": "stdout",
     "output_type": "stream",
     "text": [
      "<class 'pandas.core.frame.DataFrame'>\n",
      "RangeIndex: 3382 entries, 0 to 3381\n",
      "Columns: 505 entries, abortion to text\n",
      "dtypes: float64(502), int64(1), object(2)\n",
      "memory usage: 13.0+ MB\n"
     ]
    }
   ],
   "source": [
    "df_pol_t.info()\n",
    "\n"
   ]
  },
  {
   "cell_type": "code",
   "execution_count": 38,
   "metadata": {},
   "outputs": [],
   "source": [
    "df_pol_d=pd.get_dummies(df_pol_t, columns=['domain_d'], drop_first=True)"
   ]
  },
  {
   "cell_type": "code",
   "execution_count": 40,
   "metadata": {},
   "outputs": [
    {
     "name": "stdout",
     "output_type": "stream",
     "text": [
      "['text']\n"
     ]
    }
   ],
   "source": [
    "print((df_pol_d.select_dtypes(include=['O']).columns.values))"
   ]
  },
  {
   "cell_type": "code",
   "execution_count": 46,
   "metadata": {},
   "outputs": [
    {
     "data": {
      "text/plain": [
       "(3842, 34)"
      ]
     },
     "execution_count": 46,
     "metadata": {},
     "output_type": "execute_result"
    }
   ],
   "source": [
    "X_d.shape"
   ]
  },
  {
   "cell_type": "code",
   "execution_count": 44,
   "metadata": {},
   "outputs": [
    {
     "data": {
      "text/plain": [
       "(3382, 532)"
      ]
     },
     "execution_count": 44,
     "metadata": {},
     "output_type": "execute_result"
    }
   ],
   "source": [
    "df_pol_d.shape"
   ]
  },
  {
   "cell_type": "code",
   "execution_count": 42,
   "metadata": {},
   "outputs": [],
   "source": [
    "df_pol_d=df_pol_d.drop('text',axis=1)"
   ]
  },
  {
   "cell_type": "code",
   "execution_count": 56,
   "metadata": {},
   "outputs": [],
   "source": [
    "y_hat = lr.predict(df_pol_d)\n",
    "\n",
    "df_pol['y_hats'] = y_hat"
   ]
  },
  {
   "cell_type": "code",
   "execution_count": 57,
   "metadata": {},
   "outputs": [
    {
     "name": "stderr",
     "output_type": "stream",
     "text": [
      "/Users/admin/anaconda3/envs/dsi/lib/python3.6/site-packages/sklearn/preprocessing/label.py:151: DeprecationWarning: The truth value of an empty array is ambiguous. Returning False, but in future this will result in an error. Use `array.size > 0` to check that an array is not empty.\n",
      "  if diff:\n"
     ]
    }
   ],
   "source": [
    "df_pol['pol_id']= le.inverse_transform(df_pol['y_hats'])"
   ]
  },
  {
   "cell_type": "code",
   "execution_count": null,
   "metadata": {},
   "outputs": [],
   "source": []
  },
  {
   "cell_type": "code",
   "execution_count": null,
   "metadata": {},
   "outputs": [],
   "source": [
    "df_pol.head(3)"
   ]
  },
  {
   "cell_type": "code",
   "execution_count": null,
   "metadata": {},
   "outputs": [],
   "source": [
    "df_pol.pol_id.value_counts()"
   ]
  },
  {
   "cell_type": "code",
   "execution_count": 58,
   "metadata": {},
   "outputs": [
    {
     "data": {
      "image/png": "[encoded data removed]",
      "text/plain": [
       "<Figure size 432x288 with 1 Axes>"
      ]
     },
     "metadata": {},
     "output_type": "display_data"
    }
   ],
   "source": [
    "df_pol[df_pol['pol_id']=='Liberal']['domain'].value_counts().head(12).plot(kind='bar');"
   ]
  },
  {
   "cell_type": "code",
   "execution_count": 61,
   "metadata": {},
   "outputs": [
    {
     "data": {
      "image/png": "[encoded data removed]",
      "text/plain": [
       "<Figure size 432x288 with 1 Axes>"
      ]
     },
     "metadata": {},
     "output_type": "display_data"
    }
   ],
   "source": [
    "df_pol[df_pol['pol_id']=='Conservative']['domain'].value_counts().head(20).plot(kind='bar');"
   ]
  },
  {
   "cell_type": "code",
   "execution_count": null,
   "metadata": {},
   "outputs": [],
   "source": [
    "df_pol[(df_pol['domain'] == 'nationalreview.com' )]"
   ]
  },
  {
   "cell_type": "code",
   "execution_count": null,
   "metadata": {},
   "outputs": [],
   "source": [
    "df_pol.sample(10)"
   ]
  },
  {
   "cell_type": "markdown",
   "metadata": {},
   "source": [
    "## FAILURE TO PREDICT"
   ]
  },
  {
   "cell_type": "code",
   "execution_count": 62,
   "metadata": {},
   "outputs": [],
   "source": [
    "df.to_pickle('r_politic.pickle')"
   ]
  },
  {
   "cell_type": "code",
   "execution_count": null,
   "metadata": {},
   "outputs": [],
   "source": []
  }
 ],
 "metadata": {
  "kernelspec": {
   "display_name": "Python 3",
   "language": "python",
   "name": "python3"
  },
  "language_info": {
   "codemirror_mode": {
    "name": "ipython",
    "version": 3
   },
   "file_extension": ".py",
   "mimetype": "text/x-python",
   "name": "python",
   "nbconvert_exporter": "python",
   "pygments_lexer": "ipython3",
   "version": "3.6.5"
  }
 },
 "nbformat": 4,
 "nbformat_minor": 2
}
